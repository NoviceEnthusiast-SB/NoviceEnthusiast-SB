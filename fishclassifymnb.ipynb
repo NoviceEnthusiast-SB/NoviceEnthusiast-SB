{
  "nbformat": 4,
  "nbformat_minor": 0,
  "metadata": {
    "colab": {
      "provenance": []
    },
    "kernelspec": {
      "name": "python3",
      "display_name": "Python 3"
    },
    "language_info": {
      "name": "python"
    }
  },
  "cells": [
    {
      "cell_type": "code",
      "execution_count": null,
      "metadata": {
        "colab": {
          "base_uri": "https://localhost:8080/",
          "height": 679
        },
        "id": "3-Zdkoy_UFKE",
        "outputId": "f2102dda-d8ff-48c2-86ea-9b39aad8fa82"
      },
      "outputs": [
        {
          "output_type": "stream",
          "name": "stdout",
          "text": [
            "[['242', '23.2', '25.4', '30', '11.52', '4.02'], ['290', '24', '26.3', '31.2', '12.48', '4.3056'], ['340', '23.9', '26.5', '31.1', '12.3778', '4.6961'], ['363', '26.3', '29', '33.5', '12.73', '4.4555'], ['430', '26.5', '29', '34', '12.444', '5.134'], ['450', '26.8', '29.7', '34.7', '13.6024', '4.9274'], ['500', '26.8', '29.7', '34.5', '14.1795', '5.2785'], ['390', '27.6', '30', '35', '12.67', '4.69'], ['450', '27.6', '30', '35.1', '14.0049', '4.8438'], ['500', '28.5', '30.7', '36.2', '14.2266', '4.9594'], ['475', '28.4', '31', '36.2', '14.2628', '5.1042'], ['500', '28.7', '31', '36.2', '14.3714', '4.8146'], ['500', '29.1', '31.5', '36.4', '13.7592', '4.368'], ['340', '29.5', '32', '37.3', '13.9129', '5.0728'], ['600', '29.4', '32', '37.2', '14.9544', '5.1708'], ['600', '29.4', '32', '37.2', '15.438', '5.58'], ['700', '30.4', '33', '38.3', '14.8604', '5.2854'], ['700', '30.4', '33', '38.5', '14.938', '5.1975'], ['610', '30.9', '33.5', '38.6', '15.633', '5.1338'], ['650', '31', '33.5', '38.7', '14.4738', '5.7276'], ['575', '31.3', '34', '39.5', '15.1285', '5.5695'], ['685', '31.4', '34', '39.2', '15.9936', '5.3704'], ['620', '31.5', '34.5', '39.7', '15.5227', '5.2801'], ['680', '31.8', '35', '40.6', '15.4686', '6.1306'], ['700', '31.9', '35', '40.5', '16.2405', '5.589'], ['725', '31.8', '35', '40.9', '16.36', '6.0532'], ['720', '32', '35', '40.6', '16.3618', '6.09'], ['714', '32.7', '36', '41.5', '16.517', '5.8515'], ['850', '32.8', '36', '41.6', '16.8896', '6.1984'], ['1000', '33.5', '37', '42.6', '18.957', '6.603'], ['920', '35', '38.5', '44.1', '18.0369', '6.3063'], ['955', '35', '38.5', '44', '18.084', '6.292'], ['925', '36.2', '39.5', '45.3', '18.7542', '6.7497'], ['975', '37.4', '41', '45.9', '18.6354', '6.7473'], ['950', '38', '41', '46.5', '17.6235', '6.3705'], ['40', '12.9', '14.1', '16.2', '4.1472', '2.268'], ['69', '16.5', '18.2', '20.3', '5.2983', '2.8217'], ['78', '17.5', '18.8', '21.2', '5.5756', '2.9044'], ['87', '18.2', '19.8', '22.2', '5.6166', '3.1746'], ['120', '18.6', '20', '22.2', '6.216', '3.5742'], ['0', '19', '20.5', '22.8', '6.4752', '3.3516'], ['110', '19.1', '20.8', '23.1', '6.1677', '3.3957'], ['120', '19.4', '21', '23.7', '6.1146', '3.2943'], ['150', '20.4', '22', '24.7', '5.8045', '3.7544'], ['145', '20.5', '22', '24.3', '6.6339', '3.5478'], ['160', '20.5', '22.5', '25.3', '7.0334', '3.8203'], ['140', '21', '22.5', '25', '6.55', '3.325'], ['160', '21.1', '22.5', '25', '6.4', '3.8'], ['169', '22', '24', '27.2', '7.5344', '3.8352'], ['161', '22', '23.4', '26.7', '6.9153', '3.6312'], ['200', '22.1', '23.5', '26.8', '7.3968', '4.1272'], ['180', '23.6', '25.2', '27.9', '7.0866', '3.906'], ['290', '24', '26', '29.2', '8.8768', '4.4968'], ['272', '25', '27', '30.6', '8.568', '4.7736'], ['390', '29.5', '31.7', '35', '9.485', '5.355'], ['270', '23.6', '26', '28.7', '8.3804', '4.2476'], ['270', '24.1', '26.5', '29.3', '8.1454', '4.2485'], ['306', '25.6', '28', '30.8', '8.778', '4.6816'], ['540', '28.5', '31', '34', '10.744', '6.562'], ['800', '33.7', '36.4', '39.6', '11.7612', '6.5736'], ['1000', '37.3', '40', '43.5', '12.354', '6.525'], ['55', '13.5', '14.7', '16.5', '6.8475', '2.3265'], ['60', '14.3', '15.5', '17.4', '6.5772', '2.3142'], ['90', '16.3', '17.7', '19.8', '7.4052', '2.673'], ['120', '17.5', '19', '21.3', '8.3922', '2.9181'], ['150', '18.4', '20', '22.4', '8.8928', '3.2928'], ['140', '19', '20.7', '23.2', '8.5376', '3.2944'], ['170', '19', '20.7', '23.2', '9.396', '3.4104'], ['145', '19.8', '21.5', '24.1', '9.7364', '3.1571'], ['200', '21.2', '23', '25.8', '10.3458', '3.6636'], ['273', '23', '25', '28', '11.088', '4.144'], ['300', '24', '26', '29', '11.368', '4.234'], ['5.9', '7.5', '8.4', '8.8', '2.112', '1.408'], ['32', '12.5', '13.7', '14.7', '3.528', '1.9992'], ['40', '13.8', '15', '16', '3.824', '2.432'], ['51.5', '15', '16.2', '17.2', '4.5924', '2.6316'], ['70', '15.7', '17.4', '18.5', '4.588', '2.9415'], ['100', '16.2', '18', '19.2', '5.2224', '3.3216'], ['78', '16.8', '18.7', '19.4', '5.1992', '3.1234'], ['80', '17.2', '19', '20.2', '5.6358', '3.0502'], ['85', '17.8', '19.6', '20.8', '5.1376', '3.0368'], ['85', '18.2', '20', '21', '5.082', '2.772'], ['110', '19', '21', '22.5', '5.6925', '3.555'], ['115', '19', '21', '22.5', '5.9175', '3.3075'], ['125', '19', '21', '22.5', '5.6925', '3.6675'], ['130', '19.3', '21.3', '22.8', '6.384', '3.534'], ['120', '20', '22', '23.5', '6.11', '3.4075'], ['120', '20', '22', '23.5', '5.64', '3.525'], ['130', '20', '22', '23.5', '6.11', '3.525'], ['135', '20', '22', '23.5', '5.875', '3.525'], ['110', '20', '22', '23.5', '5.5225', '3.995'], ['130', '20.5', '22.5', '24', '5.856', '3.624'], ['150', '20.5', '22.5', '24', '6.792', '3.624'], ['145', '20.7', '22.7', '24.2', '5.9532', '3.63'], ['150', '21', '23', '24.5', '5.2185', '3.626'], ['170', '21.5', '23.5', '25', '6.275', '3.725'], ['225', '22', '24', '25.5', '7.293', '3.723'], ['145', '22', '24', '25.5', '6.375', '3.825'], ['188', '22.6', '24.6', '26.2', '6.7334', '4.1658'], ['180', '23', '25', '26.5', '6.4395', '3.6835'], ['197', '23.5', '25.6', '27', '6.561', '4.239'], ['218', '25', '26.5', '28', '7.168', '4.144'], ['300', '25.2', '27.3', '28.7', '8.323', '5.1373'], ['260', '25.4', '27.5', '28.9', '7.1672', '4.335'], ['265', '25.4', '27.5', '28.9', '7.0516', '4.335'], ['250', '25.4', '27.5', '28.9', '7.2828', '4.5662'], ['250', '25.9', '28', '29.4', '7.8204', '4.2042'], ['300', '26.9', '28.7', '30.1', '7.5852', '4.6354'], ['320', '27.8', '30', '31.6', '7.6156', '4.7716'], ['514', '30.5', '32.8', '34', '10.03', '6.018'], ['556', '32', '34.5', '36.5', '10.2565', '6.3875'], ['840', '32.5', '35', '37.3', '11.4884', '7.7957'], ['685', '34', '36.5', '39', '10.881', '6.864'], ['700', '34', '36', '38.3', '10.6091', '6.7408'], ['700', '34.5', '37', '39.4', '10.835', '6.2646'], ['690', '34.6', '37', '39.3', '10.5717', '6.3666'], ['900', '36.5', '39', '41.4', '11.1366', '7.4934'], ['650', '36.5', '39', '41.4', '11.1366', '6.003'], ['820', '36.6', '39', '41.3', '12.4313', '7.3514'], ['850', '36.9', '40', '42.3', '11.9286', '7.1064'], ['900', '37', '40', '42.5', '11.73', '7.225'], ['1015', '37', '40', '42.4', '12.3808', '7.4624'], ['820', '37.1', '40', '42.5', '11.135', '6.63'], ['1100', '39', '42', '44.6', '12.8002', '6.8684'], ['1000', '39.8', '43', '45.2', '11.9328', '7.2772'], ['1100', '40.1', '43', '45.5', '12.5125', '7.4165'], ['1000', '40.2', '43.5', '46', '12.604', '8.142'], ['1000', '41.1', '44', '46.6', '12.4888', '7.5958'], ['200', '30', '32.3', '34.8', '5.568', '3.3756'], ['300', '31.7', '34', '37.8', '5.7078', '4.158'], ['300', '32.7', '35', '38.8', '5.9364', '4.3844'], ['300', '34.8', '37.3', '39.8', '6.2884', '4.0198'], ['430', '35.5', '38', '40.5', '7.29', '4.5765'], ['345', '36', '38.5', '41', '6.396', '3.977'], ['456', '40', '42.5', '45.5', '7.28', '4.3225'], ['510', '40', '42.5', '45.5', '6.825', '4.459'], ['540', '40.1', '43', '45.8', '7.786', '5.1296'], ['500', '42', '45', '48', '6.96', '4.896'], ['567', '43.2', '46', '48.7', '7.792', '4.87'], ['770', '44.8', '48', '51.2', '7.68', '5.376'], ['950', '48.3', '51.7', '55.1', '8.9262', '6.1712'], ['1250', '52', '56', '59.7', '10.6863', '6.9849'], ['1600', '56', '60', '64', '9.6', '6.144'], ['1550', '56', '60', '64', '9.6', '6.144'], ['1650', '59', '63.4', '68', '10.812', '7.48'], ['6.7', '9.3', '9.8', '10.8', '1.7388', '1.0476'], ['7.5', '10', '10.5', '11.6', '1.972', '1.16'], ['7', '10.1', '10.6', '11.6', '1.7284', '1.1484'], ['9.7', '10.4', '11', '12', '2.196', '1.38'], ['9.8', '10.7', '11.2', '12.4', '2.0832', '1.2772'], ['8.7', '10.8', '11.3', '12.6', '1.9782', '1.2852'], ['10', '11.3', '11.8', '13.1', '2.2139', '1.2838'], ['9.9', '11.3', '11.8', '13.1', '2.2139', '1.1659'], ['9.8', '11.4', '12', '13.2', '2.2044', '1.1484'], ['12.2', '11.5', '12.2', '13.4', '2.0904', '1.3936'], ['13.4', '11.7', '12.4', '13.5', '2.43', '1.269'], ['12.2', '12.1', '13', '13.8', '2.277', '1.2558'], ['19.7', '13.2', '14.3', '15.2', '2.8728', '2.0672'], ['19.9', '13.8', '15', '16.2', '2.9322', '1.8792']]\n",
            "['Bream', 'Bream', 'Bream', 'Bream', 'Bream', 'Bream', 'Bream', 'Bream', 'Bream', 'Bream', 'Bream', 'Bream', 'Bream', 'Bream', 'Bream', 'Bream', 'Bream', 'Bream', 'Bream', 'Bream', 'Bream', 'Bream', 'Bream', 'Bream', 'Bream', 'Bream', 'Bream', 'Bream', 'Bream', 'Bream', 'Bream', 'Bream', 'Bream', 'Bream', 'Bream', 'Roach', 'Roach', 'Roach', 'Roach', 'Roach', 'Roach', 'Roach', 'Roach', 'Roach', 'Roach', 'Roach', 'Roach', 'Roach', 'Roach', 'Roach', 'Roach', 'Roach', 'Roach', 'Roach', 'Roach', 'Whitefish', 'Whitefish', 'Whitefish', 'Whitefish', 'Whitefish', 'Whitefish', 'Parkki', 'Parkki', 'Parkki', 'Parkki', 'Parkki', 'Parkki', 'Parkki', 'Parkki', 'Parkki', 'Parkki', 'Parkki', 'Perch', 'Perch', 'Perch', 'Perch', 'Perch', 'Perch', 'Perch', 'Perch', 'Perch', 'Perch', 'Perch', 'Perch', 'Perch', 'Perch', 'Perch', 'Perch', 'Perch', 'Perch', 'Perch', 'Perch', 'Perch', 'Perch', 'Perch', 'Perch', 'Perch', 'Perch', 'Perch', 'Perch', 'Perch', 'Perch', 'Perch', 'Perch', 'Perch', 'Perch', 'Perch', 'Perch', 'Perch', 'Perch', 'Perch', 'Perch', 'Perch', 'Perch', 'Perch', 'Perch', 'Perch', 'Perch', 'Perch', 'Perch', 'Perch', 'Perch', 'Perch', 'Perch', 'Perch', 'Perch', 'Perch', 'Perch', 'Pike', 'Pike', 'Pike', 'Pike', 'Pike', 'Pike', 'Pike', 'Pike', 'Pike', 'Pike', 'Pike', 'Pike', 'Pike', 'Pike', 'Pike', 'Pike', 'Pike', 'Smelt', 'Smelt', 'Smelt', 'Smelt', 'Smelt', 'Smelt', 'Smelt', 'Smelt', 'Smelt', 'Smelt', 'Smelt', 'Smelt', 'Smelt', 'Smelt']\n",
            "['Bream' 'Parkki' 'Perch' 'Pike' 'Roach' 'Smelt' 'Whitefish']\n",
            "[0 0 0 0 0 0 0 0 0 0 0 0 0 0 0 0 0 0 0 0 0 0 0 0 0 0 0 0 0 0 0 0 0 0 0 4 4\n",
            " 4 4 4 4 4 4 4 4 4 4 4 4 4 4 4 4 4 4 6 6 6 6 6 6 1 1 1 1 1 1 1 1 1 1 1 2 2\n",
            " 2 2 2 2 2 2 2 2 2 2 2 2 2 2 2 2 2 2 2 2 2 2 2 2 2 2 2 2 2 2 2 2 2 2 2 2 2\n",
            " 2 2 2 2 2 2 2 2 2 2 2 2 2 2 2 2 2 3 3 3 3 3 3 3 3 3 3 3 3 3 3 3 3 3 5 5 5\n",
            " 5 5 5 5 5 5 5 5 5 5 5]\n",
            "[2 3 0 2 4 4 1 2 0 3 5 2 1 4 2 0 2 2 2 0 2 1 2 0 5 2 4 0 3 0 3 2 1 0 2 3 0\n",
            " 2 1 4 2 0 4 2 0 0 2 2 4 3 2 5 3 4 2 1 2 0 2 5 2 1 5 2 2 4 0 2 2 4 4 2 2 0\n",
            " 4 0 4 1 2 2 2 2 3 3 2 0 2 0 6 3 0 0 4 2 3 0 3 1 4 2 4 5 6 4 2 0 6 5 3 4 5\n",
            " 0 4 3 2 2 2 2 2 2 5 0 1 2 0 2 2]\n",
            "[2 5 3 6 2 0 5 4 2 3 0 6 0 1 0 0 2 2 2 0 5 0 0 0 0 2 2 6 5 5 3 2]\n",
            "accuracy 0.59375\n",
            "[4 5 4 2 4 0 5 4 4 3 0 6 0 1 0 0 6 1 1 0 5 0 0 0 0 6 4 2 5 5 2 4]\n"
          ]
        },
        {
          "output_type": "stream",
          "name": "stderr",
          "text": [
            "/usr/local/lib/python3.8/dist-packages/sklearn/utils/validation.py:964: FutureWarning: Arrays of bytes/strings is being converted to decimal numbers if dtype='numeric'. This behavior is deprecated in 0.24 and will be removed in 1.1 (renaming of 0.26). Please convert your data to numeric values explicitly instead.\n",
            "  X = check_array(\n",
            "/usr/local/lib/python3.8/dist-packages/sklearn/base.py:566: FutureWarning: Arrays of bytes/strings is being converted to decimal numbers if dtype='numeric'. This behavior is deprecated in 0.24 and will be removed in 1.1 (renaming of 0.26). Please convert your data to numeric values explicitly instead.\n",
            "  X = check_array(X, **check_params)\n",
            "/usr/local/lib/python3.8/dist-packages/sklearn/base.py:566: FutureWarning: Arrays of bytes/strings is being converted to decimal numbers if dtype='numeric'. This behavior is deprecated in 0.24 and will be removed in 1.1 (renaming of 0.26). Please convert your data to numeric values explicitly instead.\n",
            "  X = check_array(X, **check_params)\n"
          ]
        },
        {
          "output_type": "display_data",
          "data": {
            "text/plain": [
              "<Figure size 432x288 with 2 Axes>"
            ],
            "image/png": "[encoded data removed]"
          },
          "metadata": {
            "needs_background": "light"
          }
        }
      ],
      "source": [
        "import numpy as np\n",
        "\n",
        "import pandas as pd\n",
        "\n",
        "from sklearn.pipeline import make_pipeline\n",
        "\n",
        "from sklearn.preprocessing import StandardScaler\n",
        "\n",
        "import csv\n",
        "\n",
        "from sklearn import preprocessing\n",
        "\n",
        "from sklearn.model_selection import train_test_split \n",
        "\n",
        "import matplotlib.pyplot as plt\n",
        "\n",
        "import seaborn as sns \n",
        "\n",
        "# opening the CSV file\n",
        "X = []\n",
        "y = []\n",
        "\n",
        "\n",
        "with open('Fish.csv', mode ='r')as file:\n",
        "   \n",
        "  # reading the CSV file\n",
        "  csvFile = csv.reader(file)\n",
        "  #shuffling the dataset\n",
        "  #df = pd.DataFrame(csvFile)\n",
        "  #df = csvFile\n",
        "  #df.sample(frac=1)\n",
        "  #print(df)\n",
        "  # displaying the contents of the CSV file\n",
        "  for i, lines in enumerate(csvFile):\n",
        "        # print(lines)\n",
        "        if i == 0:\n",
        "          continue\n",
        "        X.append(lines[1:])\n",
        "        y.append(lines[0])\n",
        "\n",
        "\n",
        "print (X) \n",
        "\"\\n\" \"\\n\"\n",
        "print (y)\n",
        "\"\\n\" \"\\n\"\n",
        "\n",
        "le = preprocessing.LabelEncoder()\n",
        "le.fit(y)\n",
        "print (le.classes_)\n",
        "\"\\n\" \"\\t\"\n",
        "\n",
        "y = le.transform(y)\n",
        "print (y)\n",
        "\"\\n\" \"\\r\" \"\\n\" \"\\t\"\n",
        "\n",
        "\n",
        "from sklearn.model_selection import train_test_split\n",
        "\n",
        "X_train, X_test, y_train, y_test = train_test_split(X, y, test_size=0.20, random_state=42)\n",
        "\n",
        "print (y_train)\n",
        "\"\\n\" \"\\r\" \"\\n\" \"\\t\"\n",
        "\n",
        "print (y_test)\n",
        "\n",
        "\"\\n\" \"\\r\" \"\\n\" \"\\t\"\n",
        "\n",
        "\n",
        "#import numpy as np\n",
        "#from sklearn.pipeline import make_pipeline\n",
        "#from sklearn.preprocessing import StandardScaler\n",
        "\n",
        "#from sklearn.svm import SVC\n",
        "#clf = make_pipeline(StandardScaler(), SVC(kernel='rbf', gamma='auto', C=1000))\n",
        "#clf.fit(X_train, y_train)\n",
        "from sklearn.naive_bayes import MultinomialNB\n",
        "clf = MultinomialNB(fit_prior= False)\n",
        "clf.fit(X_train, y_train)\n",
        "\n",
        "\"\\n\" \"\\n\" \"\\r\" \"\\t\"\n",
        "acc = clf.score(X_test, y_test)\n",
        "print (\"accuracy\",acc)\n",
        "\"\\n\" \"\\n\" \"\\r\" \"\\t\"\n",
        "y_pred = clf.predict(X_test)\n",
        "\n",
        "\"\\n\" \"\\n\" \"\\r\" \"\\t\"\n",
        "print (y_pred)\n",
        "\n",
        "\n",
        "from sklearn.metrics import confusion_matrix\n",
        "conf_mat = confusion_matrix(y_test, y_pred)\n",
        "sns.heatmap(conf_mat, annot= True)\n",
        "plt.xlabel(\"predicted label\")\n",
        "plt.ylabel(\"True label\")\n",
        "plt.title(\"Confusion Matrix\")\n",
        "plt.show()"
      ]
    }
  ]
}